{
  "nbformat": 4,
  "nbformat_minor": 0,
  "metadata": {
    "colab": {
      "name": "SVM tutorial kaggle.ipynb",
      "provenance": [],
      "mount_file_id": "1RCJdpSLVlOoEOf6H_ScllbvQSdOBlabp",
      "authorship_tag": "ABX9TyMrLZCfG+ZeHMy68+g24/Ur",
      "include_colab_link": true
    },
    "kernelspec": {
      "name": "python3",
      "display_name": "Python 3"
    },
    "language_info": {
      "name": "python"
    }
  },
  "cells": [
    {
      "cell_type": "markdown",
      "metadata": {
        "id": "view-in-github",
        "colab_type": "text"
      },
      "source": [
        "<a href=\"https://colab.research.google.com/github/keripikkecoa/machine-learning-week-8/blob/main/SVM_tutorial_kaggle.ipynb\" target=\"_parent\"><img src=\"https://colab.research.google.com/assets/colab-badge.svg\" alt=\"Open In Colab\"/></a>"
      ]
    },
    {
      "cell_type": "code",
      "execution_count": null,
      "metadata": {
        "id": "GKlzZSF3g4lb"
      },
      "outputs": [],
      "source": [
        "import numpy as np # linear algebra\n",
        "import pandas as pd # data processing, CSV file I/O (e.g. pd.read_csv)\n",
        "import matplotlib.pyplot as plt # for data visualization\n",
        "import seaborn as sns # for statistical data visualization\n",
        "from matplotlib.colors import ListedColormap\n",
        "\n",
        "#cek missing values\n",
        "import missingno as msno\n",
        "from sklearn.svm import SVC\n",
        "from sklearn.model_selection import train_test_split\n",
        "\n",
        "from sklearn.model_selection import cross_val_score,StratifiedKFold,LeaveOneOut\n",
        "from sklearn.dummy import DummyClassifier\n",
        "\n",
        "from sklearn.svm import LinearSVC\n",
        "from sklearn.svm import SVR\n",
        "from sklearn.model_selection import GridSearchCV\n",
        "\n",
        "\n",
        "%matplotlib inline"
      ]
    },
    {
      "cell_type": "markdown",
      "source": [
        "Import database"
      ],
      "metadata": {
        "id": "UmoHH21GhEYw"
      }
    },
    {
      "cell_type": "code",
      "source": [
        "# A.DATA PREPROCESSING\n",
        "# save filepath to variable for easier access\n",
        "train_file_path = '/content/train.csv'\n",
        "test_file_path = '/content/test.csv'\n",
        "df = pd.read_csv(train_file_path)\n",
        "test = pd.read_csv(test_file_path)\n",
        "df.head()"
      ],
      "metadata": {
        "id": "D1_0lbOzhDEJ"
      },
      "execution_count": null,
      "outputs": []
    },
    {
      "cell_type": "code",
      "source": [
        "df.info()"
      ],
      "metadata": {
        "id": "rghLnV2ch3-8"
      },
      "execution_count": null,
      "outputs": []
    },
    {
      "cell_type": "code",
      "source": [
        "#cek missing values\n",
        "\n",
        "msno.bar(df)\n",
        "plt.show()"
      ],
      "metadata": {
        "id": "fMGxA2RUh9o7"
      },
      "execution_count": null,
      "outputs": []
    },
    {
      "cell_type": "code",
      "source": [
        "#B. TARGET VALUE ANALYSIS\n",
        "#understanding the predicted value - which is hot encoded, in real life price won't be hot encoded.\n",
        "df['price_range'].describe(), df['price_range'].unique()\n",
        "\n",
        "# there are 4 classes in the predicted value"
      ],
      "metadata": {
        "id": "P4WeA-HpiMoZ"
      },
      "execution_count": null,
      "outputs": []
    },
    {
      "cell_type": "code",
      "source": [
        "#correlation matrix with heatmap (mencari korelasi antar features, salah satu teknik features selection)\n",
        "corrmat = df.corr()\n",
        "f,ax = plt.subplots(figsize=(12,10))\n",
        "sns.heatmap(corrmat,vmax=0.8,square=True,annot=True,annot_kws={'size':8})"
      ],
      "metadata": {
        "id": "wdgfpmUgiNOt"
      },
      "execution_count": null,
      "outputs": []
    },
    {
      "cell_type": "code",
      "source": [
        "#price range correlation\n",
        "corrmat.sort_values(by=[\"price_range\"],ascending=False).iloc[0].sort_values(ascending=False)"
      ],
      "metadata": {
        "id": "Il0RLiOWiPMV"
      },
      "execution_count": null,
      "outputs": []
    },
    {
      "cell_type": "code",
      "source": [
        "f, ax = plt.subplots(figsize=(10,4))\n",
        "plt.scatter(y=df['price_range'],x=df['battery_power'],color='red')\n",
        "plt.scatter(y=df['price_range'],x=df['ram'],color='Green')\n",
        "plt.scatter(y=df['price_range'],x=df['n_cores'],color='blue')\n",
        "plt.scatter(y=df['price_range'],x=df['mobile_wt'],color='orange')\n",
        "# clearly we can see that each of the category has different set of value ranges "
      ],
      "metadata": {
        "id": "vdsZETAsiRUH"
      },
      "execution_count": null,
      "outputs": []
    },
    {
      "cell_type": "code",
      "source": [
        "y = np.array(df['price_range'])\n",
        "X = df\n",
        "X = df.drop(['price_range'],axis=1)\n",
        "X = np.array(X)\n",
        "\n",
        "print(\"shape of Y :\"+str(y.shape))\n",
        "print(\"shape of X :\"+str(X.shape))\n",
        "\n",
        "from sklearn.preprocessing import MinMaxScaler #(scaling rentang 0-1)\n",
        "scaler = MinMaxScaler()\n",
        "X_train = scaler.fit_transform(X)"
      ],
      "metadata": {
        "id": "Qup0tqFZiTzv"
      },
      "execution_count": null,
      "outputs": []
    },
    {
      "cell_type": "code",
      "source": [
        "X_train,X_test,Y_train,Y_test = train_test_split(X,y,test_size=.20,random_state=42)\n",
        "print(\"shape of X Train :\"+str(X_train.shape))\n",
        "print(\"shape of X Test :\"+str(X_test.shape))\n",
        "print(\"shape of Y Train :\"+str(Y_train.shape))\n",
        "print(\"shape of Y Test :\"+str(Y_test.shape))"
      ],
      "metadata": {
        "id": "hbMPKKQoiVqm"
      },
      "execution_count": null,
      "outputs": []
    },
    {
      "cell_type": "code",
      "source": [
        "for this_C in [1,3,5,10,40,60,80,100]: #parameter C di SVM Linier\n",
        "    clf = SVC(kernel='linear',C=this_C).fit(X_train,Y_train) #clf = cross validate metrics for evaluating classification\n",
        "    scoretrain = clf.score(X_train,Y_train)\n",
        "    scoretest  = clf.score(X_test,Y_test)\n",
        "    print(\"Linear SVM value of C:{}, training score :{:2f} , Test Score: {:2f} \\n\".format(this_C,scoretrain,scoretest))"
      ],
      "metadata": {
        "colab": {
          "base_uri": "https://localhost:8080/"
        },
        "id": "gKf0n4b1n4wP",
        "outputId": "a9657b04-3407-487d-bd35-a392530ae97f"
      },
      "execution_count": 35,
      "outputs": [
        {
          "output_type": "stream",
          "name": "stdout",
          "text": [
            "Linear SVM value of C:1, training score :0.988750 , Test Score: 0.970000 \n",
            "\n",
            "Linear SVM value of C:3, training score :0.985625 , Test Score: 0.970000 \n",
            "\n",
            "Linear SVM value of C:5, training score :0.983750 , Test Score: 0.967500 \n",
            "\n",
            "Linear SVM value of C:10, training score :0.985000 , Test Score: 0.967500 \n",
            "\n",
            "Linear SVM value of C:40, training score :0.985000 , Test Score: 0.970000 \n",
            "\n",
            "Linear SVM value of C:60, training score :0.985000 , Test Score: 0.972500 \n",
            "\n",
            "Linear SVM value of C:80, training score :0.985000 , Test Score: 0.972500 \n",
            "\n",
            "Linear SVM value of C:100, training score :0.985000 , Test Score: 0.972500 \n",
            "\n"
          ]
        }
      ]
    },
    {
      "cell_type": "code",
      "source": [
        "clf1 = SVC(kernel='linear',C=20).fit(X_train,Y_train)\n",
        "scores = cross_val_score(clf1,X_train,Y_train,cv=5)\n",
        "strat_scores = cross_val_score(clf1,X_train,Y_train,cv=StratifiedKFold(5,random_state=10,shuffle=True))\n",
        "#Loo = LeaveOneOut()\n",
        "#Loo_scores = cross_val_score(clf1,X_train,Y_train,cv=Loo)\n",
        "print(\"The Cross Validation Score :\"+str(scores))\n",
        "print(\"The Average Cross Validation Score :\"+str(scores.mean()))\n",
        "print(\"The Stratified Cross Validation Score :\"+str(strat_scores))\n",
        "print(\"The Average Stratified Cross Validation Score :\"+str(strat_scores.mean()))\n",
        "#print(\"The LeaveOneOut Cross Validation Score :\"+str(Loo_scores))\n",
        "#print(\"The Average LeaveOneOut Cross Validation Score :\"+str(Loo_scores.mean()))"
      ],
      "metadata": {
        "id": "ZLcygx24n7Pv"
      },
      "execution_count": null,
      "outputs": []
    },
    {
      "cell_type": "code",
      "source": [
        "for strat in ['stratified', 'most_frequent', 'prior', 'uniform']:\n",
        "    dummy_maj = DummyClassifier(strategy=strat).fit(X_train,Y_train)\n",
        "    print(\"Train Stratergy :{} \\n Score :{:.2f}\".format(strat,dummy_maj.score(X_train,Y_train)))\n",
        "    print(\"Test Stratergy :{} \\n Score :{:.2f}\".format(strat,dummy_maj.score(X_test,Y_test)))"
      ],
      "metadata": {
        "id": "mM_tMoKYn8-R"
      },
      "execution_count": null,
      "outputs": []
    },
    {
      "cell_type": "code",
      "source": [
        "# plotting the decision boundries for the data \n",
        "#converting the data to array for plotting. \n",
        "X = np.array(df.iloc[:,[0,13]])\n",
        "y = np.array(df['price_range'])\n",
        "print(\"Shape of X:\"+str(X.shape))\n",
        "print(\"Shape of y:\"+str(y.shape))\n",
        "X = scaler.fit_transform(X)"
      ],
      "metadata": {
        "id": "Rgl8C7ICn-k0"
      },
      "execution_count": null,
      "outputs": []
    },
    {
      "cell_type": "code",
      "source": [
        "# custome color maps\n",
        "cm_dark = ListedColormap(['#ff6060', '#8282ff','#ffaa00','#fff244','#4df9b9','#76e8fc','#3ad628'])\n",
        "cm_bright = ListedColormap(['#ffafaf', '#c6c6ff','#ffaa00','#ffe2a8','#bfffe7','#c9f7ff','#9eff93'])"
      ],
      "metadata": {
        "id": "NDnkSc4RoAFa"
      },
      "execution_count": null,
      "outputs": []
    },
    {
      "cell_type": "code",
      "source": [
        "plt.scatter(X[:,0],X[:,1],c=y,cmap=cm_dark,s=10,label=y)\n",
        "plt.show()"
      ],
      "metadata": {
        "id": "BM0nymXpoBji"
      },
      "execution_count": null,
      "outputs": []
    },
    {
      "cell_type": "code",
      "source": [
        "h = .02  # step size in the mesh\n",
        "C_param = 1 # No of neighbours\n",
        "for weights in ['uniform', 'distance']:\n",
        "    # we create an instance of Neighbours Classifier and fit the data.\n",
        "    clf1 = SVC(kernel='linear',C=C_param)\n",
        "    clf1.fit(X, y)\n",
        "\n",
        "    # Plot the decision boundary. For that, we will assign a color to each\n",
        "    # point in the mesh [x_min, x_max]x[y_min, y_max].\n",
        "    x_min, x_max = X[:, 0].min()-.20, X[:, 0].max()+.20\n",
        "    y_min, y_max = X[:, 1].min()-.20, X[:, 1].max()+.20\n",
        "    xx, yy = np.meshgrid(np.arange(x_min, x_max, h),\n",
        "                         np.arange(y_min, y_max, h))\n",
        "    Z = clf1.predict(np.c_[xx.ravel(), yy.ravel()])   # ravel to flatten the into 1D and c_ to concatenate \n",
        "\n",
        "    # Put the result into a color plot\n",
        "    Z = Z.reshape(xx.shape)\n",
        "    plt.figure()\n",
        "    plt.pcolormesh(xx, yy, Z, cmap=cm_bright)\n",
        "\n",
        "    # Plot also the training points\n",
        "    plt.scatter(X[:, 0], X[:, 1], c=y, cmap=cm_dark,\n",
        "                edgecolor='k', s=20)\n",
        "    plt.xlim(xx.min(), xx.max())\n",
        "    plt.ylim(yy.min(), yy.max())\n",
        "    plt.title(\"SVM Linear Classification (kernal = linear, Gamma = '%s')\"% (C_param))\n",
        "\n",
        "plt.show()"
      ],
      "metadata": {
        "id": "UFHJ78iSoDKw"
      },
      "execution_count": null,
      "outputs": []
    },
    {
      "cell_type": "code",
      "source": [
        "print(\"The score of the above :\"+str(clf1.score(X,y)))"
      ],
      "metadata": {
        "id": "hsB79lTuoEyq"
      },
      "execution_count": null,
      "outputs": []
    },
    {
      "cell_type": "code",
      "source": [
        "for this_C in [1,3,5,10,40,60,80,100]:\n",
        "    clf2 = LinearSVC(C=this_C).fit(X_train,Y_train)\n",
        "    scoretrain = clf2.score(X_train,Y_train)\n",
        "    scoretest  = clf2.score(X_test,Y_test)\n",
        "    print(\"Linear SVM value of C:{}, training score :{:2f} , Test Score: {:2f} \\n\".format(this_C,scoretrain,scoretest))"
      ],
      "metadata": {
        "id": "T4SS0pBdoGSK"
      },
      "execution_count": null,
      "outputs": []
    },
    {
      "cell_type": "code",
      "source": [
        "svr = SVR(kernel='linear',C=1,epsilon=.01).fit(X_train,Y_train)\n",
        "print(\"{:.2f} is the accuracy of the SV Regressor\".format(svr.score(X_train,Y_train)))"
      ],
      "metadata": {
        "id": "mneh7jBBoJDz"
      },
      "execution_count": null,
      "outputs": []
    },
    {
      "cell_type": "code",
      "source": [
        "#NON LINIER SVM\n",
        "# SMV with RBF KERNAL AND ONLY C PARAMETER \n",
        "\n",
        "for this_C in [1,5,10,25,50,100]:\n",
        "    clf3 = SVC(kernel='rbf',C=this_C).fit(X_train,Y_train)\n",
        "    clf3train = clf3.score(X_train,Y_train)\n",
        "    clf3test  = clf3.score(X_test,Y_test)\n",
        "    print(\"SVM for Non Linear \\n C:{} Training Score : {:2f} Test Score : {:2f}\\n\".format(this_C,clf3train,clf3test))"
      ],
      "metadata": {
        "id": "sKz8ZWiXoKvf"
      },
      "execution_count": null,
      "outputs": []
    },
    {
      "cell_type": "code",
      "source": [
        "# SVM WITH RBF KERNAL, C AND GAMMA HYPERPARAMTER \n",
        "for this_gamma in [.1,.5,.10,.25,.50,1]:\n",
        "    for this_C in [1,5,7,10,15,25,50]:\n",
        "        clf3 = SVC(kernel='rbf',C=this_C,gamma=this_gamma).fit(X_train,Y_train)\n",
        "        clf3train = clf3.score(X_train,Y_train)\n",
        "        clf3test  = clf3.score(X_test,Y_test)\n",
        "        print(\"SVM for Non Linear \\n Gamma: {} C:{} Training Score : {:2f} Test Score : {:2f}\\n\".format(this_gamma,this_C,clf3train,clf3test))"
      ],
      "metadata": {
        "id": "Te-qTQk1oLVY"
      },
      "execution_count": null,
      "outputs": []
    },
    {
      "cell_type": "code",
      "source": [
        "# grid search method \n",
        "\n",
        "param_grid = {'C': [1,5,7,10,15,25,50],\n",
        "              'gamma': [.1,.5,.10,.25,.50,1]}\n",
        "GS = GridSearchCV(SVC(kernel='rbf'),param_grid,cv=5)"
      ],
      "metadata": {
        "id": "t_7LIkP2oMw7"
      },
      "execution_count": null,
      "outputs": []
    },
    {
      "cell_type": "code",
      "source": [
        "GS.fit(X_train,Y_train"
      ],
      "metadata": {
        "id": "sRQN2l5WoPxC"
      },
      "execution_count": null,
      "outputs": []
    },
    {
      "cell_type": "code",
      "source": [
        "print(\"the parameters {} are the best.\".format(GS.best_params_))\n",
        "print(\"the best score is {:.2f}.\".format(GS.best_score_))"
      ],
      "metadata": {
        "id": "YFChYkwloRIN"
      },
      "execution_count": null,
      "outputs": []
    },
    {
      "cell_type": "code",
      "source": [
        "# Kernalized SVM machine \n",
        "svr2 = SVR(degree=2,C=100,epsilon=.01).fit(X_train,Y_train)\n",
        "print(\"{:.2f} is the accuracy of the SV Regressor\".format(svr2.score(X_train,Y_train)))"
      ],
      "metadata": {
        "id": "m6CO5QggoTie"
      },
      "execution_count": null,
      "outputs": []
    },
    {
      "cell_type": "code",
      "source": [
        "test = test.drop(['id'],axis=1)\n",
        "test.head()test_mat = np.array(test)\n",
        "test = scaler.fit_transform(test_mat)"
      ],
      "metadata": {
        "id": "2oaPQu9RoUFw"
      },
      "execution_count": null,
      "outputs": []
    },
    {
      "cell_type": "code",
      "source": [
        "clf4 = SVC(kernel='rbf',C=25,gamma=.1).fit(X_train,Y_train)\n",
        "prediction = clf4.predict(test_mat)\n",
        "pred = pd.DataFrame(prediction)\n",
        "pred.head()\n",
        "pred.info()"
      ],
      "metadata": {
        "id": "PlDwAns0oVmh"
      },
      "execution_count": null,
      "outputs": []
    },
    {
      "cell_type": "code",
      "source": [
        "prediction = svr2.predict(test_mat)\n",
        "pred = pd.DataFrame(prediction)\n",
        "pred.head()"
      ],
      "metadata": {
        "id": "1kFKz_TYoXH5"
      },
      "execution_count": null,
      "outputs": []
    }
  ]
}